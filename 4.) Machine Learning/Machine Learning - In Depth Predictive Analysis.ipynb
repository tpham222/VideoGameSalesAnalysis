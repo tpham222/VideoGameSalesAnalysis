{
 "cells": [
  {
   "cell_type": "markdown",
   "metadata": {},
   "source": [
    "# Machine Learning - In-depth Predictive Analysis"
   ]
  },
  {
   "cell_type": "markdown",
   "metadata": {},
   "source": [
    "## Introduction  \n",
    "In the statistical inference portion of this capstone project, many different features of a video game were looked at in order to determine their correlation with the global sales as well as how statistically significant some of the results were. Some of the features were directly compared and some were group together by their publishers or genre and then compared. In each case, however, only a single feature at a time was being looked at for its effects on global sales. During this part of the capstone project, machine learning will be used in order to increase predictive power and to perform a more in depth analysis of a video game's global sales in regards to more than one of its ungrouped features."
   ]
  },
  {
   "cell_type": "code",
   "execution_count": 1,
   "metadata": {},
   "outputs": [],
   "source": [
    "import numpy as np\n",
    "import pandas as pd\n",
    "import matplotlib.pyplot as plt\n",
    "import seaborn as sns\n",
    "\n",
    "#setting default plot settings\n",
    "sns.set(rc={'figure.figsize':(10,7)}, font_scale=1.3)"
   ]
  },
  {
   "cell_type": "markdown",
   "metadata": {},
   "source": [
    "## Linear Regression\n",
    "It was previously seen that using a simple linear regression model to predict the log of global sales of a video game based on its critic score only provided an R<sup>2</sup> value of about 17%. What would happen if more features of a video game were added to the linear regression model? Lets start by creating a dataframe with the appropriate features."
   ]
  },
  {
   "cell_type": "markdown",
   "metadata": {},
   "source": [
    "### Creating the Dataframe\n",
    "We are looking at monetary values, therefore we will look at the logarithm for global sales. The publisher feature is non-numerical and contains many different values. In order to incorporate a video game's publisher properties we will categorize each video game based on its publisher's count of appearance in this dataset. Finally, we will create dummy variables through one-hot encoding for the categorical features in order to include them in the linear regression."
   ]
  },
  {
   "cell_type": "code",
   "execution_count": 2,
   "metadata": {},
   "outputs": [
    {
     "data": {
      "text/html": [
       "<div>\n",
       "<style scoped>\n",
       "    .dataframe tbody tr th:only-of-type {\n",
       "        vertical-align: middle;\n",
       "    }\n",
       "\n",
       "    .dataframe tbody tr th {\n",
       "        vertical-align: top;\n",
       "    }\n",
       "\n",
       "    .dataframe thead th {\n",
       "        text-align: right;\n",
       "    }\n",
       "</style>\n",
       "<table border=\"1\" class=\"dataframe\">\n",
       "  <thead>\n",
       "    <tr style=\"text-align: right;\">\n",
       "      <th></th>\n",
       "      <th>Name</th>\n",
       "      <th>Genre</th>\n",
       "      <th>Year_of_Release</th>\n",
       "      <th>Publisher</th>\n",
       "      <th>Global_Sales</th>\n",
       "      <th>Critic_Score</th>\n",
       "      <th>User_Score</th>\n",
       "      <th>log_sales</th>\n",
       "      <th>count</th>\n",
       "      <th>pub_class</th>\n",
       "    </tr>\n",
       "  </thead>\n",
       "  <tbody>\n",
       "    <tr>\n",
       "      <th>0</th>\n",
       "      <td>Wii Sports</td>\n",
       "      <td>Sports</td>\n",
       "      <td>2006</td>\n",
       "      <td>Nintendo</td>\n",
       "      <td>82.53</td>\n",
       "      <td>76.0</td>\n",
       "      <td>80.0</td>\n",
       "      <td>4.413162</td>\n",
       "      <td>290</td>\n",
       "      <td>3</td>\n",
       "    </tr>\n",
       "    <tr>\n",
       "      <th>1</th>\n",
       "      <td>Grand Theft Auto V</td>\n",
       "      <td>Action</td>\n",
       "      <td>2013</td>\n",
       "      <td>Take-Two Interactive</td>\n",
       "      <td>56.57</td>\n",
       "      <td>97.0</td>\n",
       "      <td>83.0</td>\n",
       "      <td>4.035479</td>\n",
       "      <td>129</td>\n",
       "      <td>1</td>\n",
       "    </tr>\n",
       "    <tr>\n",
       "      <th>2</th>\n",
       "      <td>Mario Kart Wii</td>\n",
       "      <td>Racing</td>\n",
       "      <td>2008</td>\n",
       "      <td>Nintendo</td>\n",
       "      <td>35.52</td>\n",
       "      <td>82.0</td>\n",
       "      <td>83.0</td>\n",
       "      <td>3.570096</td>\n",
       "      <td>290</td>\n",
       "      <td>3</td>\n",
       "    </tr>\n",
       "    <tr>\n",
       "      <th>3</th>\n",
       "      <td>Wii Sports Resort</td>\n",
       "      <td>Sports</td>\n",
       "      <td>2009</td>\n",
       "      <td>Nintendo</td>\n",
       "      <td>32.77</td>\n",
       "      <td>80.0</td>\n",
       "      <td>80.0</td>\n",
       "      <td>3.489513</td>\n",
       "      <td>290</td>\n",
       "      <td>3</td>\n",
       "    </tr>\n",
       "    <tr>\n",
       "      <th>4</th>\n",
       "      <td>Call of Duty: Modern Warfare 3</td>\n",
       "      <td>Shooter</td>\n",
       "      <td>2011</td>\n",
       "      <td>Activision</td>\n",
       "      <td>30.59</td>\n",
       "      <td>88.0</td>\n",
       "      <td>34.0</td>\n",
       "      <td>3.420673</td>\n",
       "      <td>210</td>\n",
       "      <td>3</td>\n",
       "    </tr>\n",
       "  </tbody>\n",
       "</table>\n",
       "</div>"
      ],
      "text/plain": [
       "                             Name    Genre  Year_of_Release  \\\n",
       "0                      Wii Sports   Sports             2006   \n",
       "1              Grand Theft Auto V   Action             2013   \n",
       "2                  Mario Kart Wii   Racing             2008   \n",
       "3               Wii Sports Resort   Sports             2009   \n",
       "4  Call of Duty: Modern Warfare 3  Shooter             2011   \n",
       "\n",
       "              Publisher  Global_Sales  Critic_Score  User_Score  log_sales  \\\n",
       "0              Nintendo         82.53          76.0        80.0   4.413162   \n",
       "1  Take-Two Interactive         56.57          97.0        83.0   4.035479   \n",
       "2              Nintendo         35.52          82.0        83.0   3.570096   \n",
       "3              Nintendo         32.77          80.0        80.0   3.489513   \n",
       "4            Activision         30.59          88.0        34.0   3.420673   \n",
       "\n",
       "   count  pub_class  \n",
       "0    290          3  \n",
       "1    129          1  \n",
       "2    290          3  \n",
       "3    290          3  \n",
       "4    210          3  "
      ]
     },
     "execution_count": 2,
     "metadata": {},
     "output_type": "execute_result"
    }
   ],
   "source": [
    "#importing data file\n",
    "df = pd.read_csv('data/Clean_Video_Game_Sales.csv', index_col=0)\n",
    "\n",
    "#adding the log of global sales column\n",
    "df['log_sales'] = np.log(df.Global_Sales)\n",
    "\n",
    "#adding a count of publishers column for categorization\n",
    "df['count'] = df.groupby('Publisher')['Publisher'].transform('count')\n",
    "\n",
    "#Using a list comprehension in order add a feature to \n",
    "#categorize a video game based on its publisher count\n",
    "#count >50 is class 0, 50<= count <150 is class 1, 150<= count <200 is class 2, count >= 200 is class 3\n",
    "df['pub_class'] = [0 if x < 50 else (1 if x < 150 else (2 if x < 200 else 3)) for x in df['count']]\n",
    "\n",
    "#priting the data frame\n",
    "df.head()"
   ]
  },
  {
   "cell_type": "markdown",
   "metadata": {},
   "source": [
    "We will create a \"lean\" dataframe containing only the features that will be used for the linear regression"
   ]
  },
  {
   "cell_type": "code",
   "execution_count": 3,
   "metadata": {},
   "outputs": [
    {
     "data": {
      "text/html": [
       "<div>\n",
       "<style scoped>\n",
       "    .dataframe tbody tr th:only-of-type {\n",
       "        vertical-align: middle;\n",
       "    }\n",
       "\n",
       "    .dataframe tbody tr th {\n",
       "        vertical-align: top;\n",
       "    }\n",
       "\n",
       "    .dataframe thead th {\n",
       "        text-align: right;\n",
       "    }\n",
       "</style>\n",
       "<table border=\"1\" class=\"dataframe\">\n",
       "  <thead>\n",
       "    <tr style=\"text-align: right;\">\n",
       "      <th></th>\n",
       "      <th>Genre</th>\n",
       "      <th>Year_of_Release</th>\n",
       "      <th>Critic_Score</th>\n",
       "      <th>log_sales</th>\n",
       "      <th>pub_class</th>\n",
       "    </tr>\n",
       "  </thead>\n",
       "  <tbody>\n",
       "    <tr>\n",
       "      <th>0</th>\n",
       "      <td>Sports</td>\n",
       "      <td>2006</td>\n",
       "      <td>76.0</td>\n",
       "      <td>4.413162</td>\n",
       "      <td>3</td>\n",
       "    </tr>\n",
       "    <tr>\n",
       "      <th>1</th>\n",
       "      <td>Action</td>\n",
       "      <td>2013</td>\n",
       "      <td>97.0</td>\n",
       "      <td>4.035479</td>\n",
       "      <td>1</td>\n",
       "    </tr>\n",
       "    <tr>\n",
       "      <th>2</th>\n",
       "      <td>Racing</td>\n",
       "      <td>2008</td>\n",
       "      <td>82.0</td>\n",
       "      <td>3.570096</td>\n",
       "      <td>3</td>\n",
       "    </tr>\n",
       "    <tr>\n",
       "      <th>3</th>\n",
       "      <td>Sports</td>\n",
       "      <td>2009</td>\n",
       "      <td>80.0</td>\n",
       "      <td>3.489513</td>\n",
       "      <td>3</td>\n",
       "    </tr>\n",
       "    <tr>\n",
       "      <th>4</th>\n",
       "      <td>Shooter</td>\n",
       "      <td>2011</td>\n",
       "      <td>88.0</td>\n",
       "      <td>3.420673</td>\n",
       "      <td>3</td>\n",
       "    </tr>\n",
       "  </tbody>\n",
       "</table>\n",
       "</div>"
      ],
      "text/plain": [
       "     Genre  Year_of_Release  Critic_Score  log_sales  pub_class\n",
       "0   Sports             2006          76.0   4.413162          3\n",
       "1   Action             2013          97.0   4.035479          1\n",
       "2   Racing             2008          82.0   3.570096          3\n",
       "3   Sports             2009          80.0   3.489513          3\n",
       "4  Shooter             2011          88.0   3.420673          3"
      ]
     },
     "execution_count": 3,
     "metadata": {},
     "output_type": "execute_result"
    }
   ],
   "source": [
    "lean = df[['Genre','Year_of_Release','Critic_Score','log_sales','pub_class']]\n",
    "lean.head()"
   ]
  },
  {
   "cell_type": "markdown",
   "metadata": {},
   "source": [
    "Next, let's perform one hot encoding on the \"genre\" and \"pub_class\" features. This will convert the categorical features into dummy variables so that they can be fed into the linear regression algorithm. Then we will concatenate these dummy variables onto the dataframe that will be used for linear regression."
   ]
  },
  {
   "cell_type": "code",
   "execution_count": 4,
   "metadata": {},
   "outputs": [
    {
     "data": {
      "text/html": [
       "<div>\n",
       "<style scoped>\n",
       "    .dataframe tbody tr th:only-of-type {\n",
       "        vertical-align: middle;\n",
       "    }\n",
       "\n",
       "    .dataframe tbody tr th {\n",
       "        vertical-align: top;\n",
       "    }\n",
       "\n",
       "    .dataframe thead th {\n",
       "        text-align: right;\n",
       "    }\n",
       "</style>\n",
       "<table border=\"1\" class=\"dataframe\">\n",
       "  <thead>\n",
       "    <tr style=\"text-align: right;\">\n",
       "      <th></th>\n",
       "      <th>Year_of_Release</th>\n",
       "      <th>Critic_Score</th>\n",
       "      <th>log_sales</th>\n",
       "      <th>Adventure</th>\n",
       "      <th>Fighting</th>\n",
       "      <th>Misc</th>\n",
       "      <th>Platform</th>\n",
       "      <th>Puzzle</th>\n",
       "      <th>Racing</th>\n",
       "      <th>Role-Playing</th>\n",
       "      <th>Shooter</th>\n",
       "      <th>Simulation</th>\n",
       "      <th>Sports</th>\n",
       "      <th>Strategy</th>\n",
       "      <th>1</th>\n",
       "      <th>2</th>\n",
       "      <th>3</th>\n",
       "    </tr>\n",
       "  </thead>\n",
       "  <tbody>\n",
       "    <tr>\n",
       "      <th>0</th>\n",
       "      <td>2006</td>\n",
       "      <td>76.0</td>\n",
       "      <td>4.413162</td>\n",
       "      <td>0</td>\n",
       "      <td>0</td>\n",
       "      <td>0</td>\n",
       "      <td>0</td>\n",
       "      <td>0</td>\n",
       "      <td>0</td>\n",
       "      <td>0</td>\n",
       "      <td>0</td>\n",
       "      <td>0</td>\n",
       "      <td>1</td>\n",
       "      <td>0</td>\n",
       "      <td>0</td>\n",
       "      <td>0</td>\n",
       "      <td>1</td>\n",
       "    </tr>\n",
       "    <tr>\n",
       "      <th>1</th>\n",
       "      <td>2013</td>\n",
       "      <td>97.0</td>\n",
       "      <td>4.035479</td>\n",
       "      <td>0</td>\n",
       "      <td>0</td>\n",
       "      <td>0</td>\n",
       "      <td>0</td>\n",
       "      <td>0</td>\n",
       "      <td>0</td>\n",
       "      <td>0</td>\n",
       "      <td>0</td>\n",
       "      <td>0</td>\n",
       "      <td>0</td>\n",
       "      <td>0</td>\n",
       "      <td>1</td>\n",
       "      <td>0</td>\n",
       "      <td>0</td>\n",
       "    </tr>\n",
       "    <tr>\n",
       "      <th>2</th>\n",
       "      <td>2008</td>\n",
       "      <td>82.0</td>\n",
       "      <td>3.570096</td>\n",
       "      <td>0</td>\n",
       "      <td>0</td>\n",
       "      <td>0</td>\n",
       "      <td>0</td>\n",
       "      <td>0</td>\n",
       "      <td>1</td>\n",
       "      <td>0</td>\n",
       "      <td>0</td>\n",
       "      <td>0</td>\n",
       "      <td>0</td>\n",
       "      <td>0</td>\n",
       "      <td>0</td>\n",
       "      <td>0</td>\n",
       "      <td>1</td>\n",
       "    </tr>\n",
       "    <tr>\n",
       "      <th>3</th>\n",
       "      <td>2009</td>\n",
       "      <td>80.0</td>\n",
       "      <td>3.489513</td>\n",
       "      <td>0</td>\n",
       "      <td>0</td>\n",
       "      <td>0</td>\n",
       "      <td>0</td>\n",
       "      <td>0</td>\n",
       "      <td>0</td>\n",
       "      <td>0</td>\n",
       "      <td>0</td>\n",
       "      <td>0</td>\n",
       "      <td>1</td>\n",
       "      <td>0</td>\n",
       "      <td>0</td>\n",
       "      <td>0</td>\n",
       "      <td>1</td>\n",
       "    </tr>\n",
       "    <tr>\n",
       "      <th>4</th>\n",
       "      <td>2011</td>\n",
       "      <td>88.0</td>\n",
       "      <td>3.420673</td>\n",
       "      <td>0</td>\n",
       "      <td>0</td>\n",
       "      <td>0</td>\n",
       "      <td>0</td>\n",
       "      <td>0</td>\n",
       "      <td>0</td>\n",
       "      <td>0</td>\n",
       "      <td>1</td>\n",
       "      <td>0</td>\n",
       "      <td>0</td>\n",
       "      <td>0</td>\n",
       "      <td>0</td>\n",
       "      <td>0</td>\n",
       "      <td>1</td>\n",
       "    </tr>\n",
       "  </tbody>\n",
       "</table>\n",
       "</div>"
      ],
      "text/plain": [
       "   Year_of_Release  Critic_Score  log_sales  Adventure  Fighting  Misc  \\\n",
       "0             2006          76.0   4.413162          0         0     0   \n",
       "1             2013          97.0   4.035479          0         0     0   \n",
       "2             2008          82.0   3.570096          0         0     0   \n",
       "3             2009          80.0   3.489513          0         0     0   \n",
       "4             2011          88.0   3.420673          0         0     0   \n",
       "\n",
       "   Platform  Puzzle  Racing  Role-Playing  Shooter  Simulation  Sports  \\\n",
       "0         0       0       0             0        0           0       1   \n",
       "1         0       0       0             0        0           0       0   \n",
       "2         0       0       1             0        0           0       0   \n",
       "3         0       0       0             0        0           0       1   \n",
       "4         0       0       0             0        1           0       0   \n",
       "\n",
       "   Strategy  1  2  3  \n",
       "0         0  0  0  1  \n",
       "1         0  1  0  0  \n",
       "2         0  0  0  1  \n",
       "3         0  0  0  1  \n",
       "4         0  0  0  1  "
      ]
     },
     "execution_count": 4,
     "metadata": {},
     "output_type": "execute_result"
    }
   ],
   "source": [
    "#getting dummy variables for Genre and pub_class\n",
    "genre_dummies = pd.get_dummies(lean['Genre'], drop_first=True)\n",
    "pub_class_dummies = pd.get_dummies(lean['pub_class'], drop_first=True)\n",
    "\n",
    "#concatenating the dummy variables onto the original dataframe\n",
    "#also droppiping Genre and pub_class\n",
    "lean_linreg = pd.concat([lean, genre_dummies, pub_class_dummies], axis=1).drop(['Genre','pub_class'], axis=1)\n",
    "\n",
    "lean_linreg.head()"
   ]
  },
  {
   "cell_type": "markdown",
   "metadata": {},
   "source": [
    "## Linear Regression on Multiple Features\n",
    "The lean dataframe will be separated into a features variable and a target variable, X and y. These two variables will then be split into a training set and a testing set. The training set will be fed into the linear regression model. Cross validation will be performed in order to split the training set into 5 groups where 4 are training groups and 1 is a testing group. The model will be fit on the 4 training groups and then tested and scored on the test group. This will be repeated until each group is used as a testing group at least once. The average of the cross validation scores will be used as the as a measure of how well the model fits the data. The scoring system that will be used will be the adjusted R<sup>2</sup>. This score will account for increasing the number of features, which will always increase the R<sup>2</sup> value. The linear regression model will then be trained on the entire training set and the root mean squared error (RMSE) will be calculated from the predictions on the testing set."
   ]
  },
  {
   "cell_type": "code",
   "execution_count": 5,
   "metadata": {},
   "outputs": [],
   "source": [
    "#creating the adjusted r2 scoring function\n",
    "def adj_r2(model, x, y):\n",
    "    r2 = model.score(x,y)\n",
    "    n = x.shape[0] #number of samples\n",
    "    p = x.shape[1] #number of features\n",
    "    numer = (1 - r2) * (n - 1)\n",
    "    denom = n - p - 1\n",
    "    return 1 - (numer/denom)"
   ]
  },
  {
   "cell_type": "code",
   "execution_count": 6,
   "metadata": {},
   "outputs": [
    {
     "name": "stdout",
     "output_type": "stream",
     "text": [
      "The cross validation scores are: [0.28438211 0.29484544 0.26267566 0.27055302 0.32390398]\n",
      "\n",
      "The average adjusted R-squared for this model is 0.2873\n"
     ]
    }
   ],
   "source": [
    "from sklearn.linear_model import LinearRegression\n",
    "from sklearn.model_selection import cross_val_score, KFold, train_test_split\n",
    "\n",
    "#creating the X and y datasets\n",
    "X = lean_linreg.copy().drop('log_sales',axis=1)\n",
    "y = lean_linreg['log_sales']\n",
    "\n",
    "Xtrain, Xtest, ytrain, ytest = train_test_split(X,y,test_size=0.20, random_state=29)\n",
    "\n",
    "#instantiating the LinearRegression model\n",
    "reg = LinearRegression()\n",
    "\n",
    "#splitting, fitting, testing, and scoring with 5-fold cross validation\n",
    "cv = KFold(n_splits=5, random_state=29, shuffle=True)\n",
    "scores = cross_val_score(reg, Xtrain, ytrain, cv=cv, scoring=adj_r2)\n",
    "\n",
    "print(\"The cross validation scores are: {}\".format(scores))\n",
    "print(\"\\nThe average adjusted R-squared for this model is %.4f\" % np.mean(scores))"
   ]
  },
  {
   "cell_type": "markdown",
   "metadata": {},
   "source": [
    "The original R<sup>2</sup> score produced from the linear regression of critic score and global sales was 17%. By introducing additional video game features into the model the score was brought up to about 29%. This means that the linear regression model that incorporated the additional features of a video game was able to explain about 29% of the variance in its global sales.\n",
    "\n",
    "Now that we have an idea of how well the model performs from cross validation, let's now fit the entire training set to the linear regression model and see how well it performs on unseen data, the testing set."
   ]
  },
  {
   "cell_type": "code",
   "execution_count": 7,
   "metadata": {},
   "outputs": [
    {
     "name": "stdout",
     "output_type": "stream",
     "text": [
      "The Adjusted R-squared is 0.2989\n",
      "The Root Mean Squared Error is 1.2769.\n"
     ]
    }
   ],
   "source": [
    "from sklearn.metrics import mean_squared_error\n",
    "\n",
    "#refitting the model using the entire training set \n",
    "reg.fit(Xtrain, ytrain)\n",
    "\n",
    "#predicting using the testing set\n",
    "rmse = np.sqrt(mean_squared_error(ytest, reg.predict(Xtest)))\n",
    "adjr2 = adj_r2(reg, Xtest,ytest)\n",
    "\n",
    "print(\"The Adjusted R-squared is {:0.4f}\".format(adjr2))\n",
    "print(\"The Root Mean Squared Error is {:0.4f}.\".format(rmse))"
   ]
  },
  {
   "cell_type": "markdown",
   "metadata": {},
   "source": [
    "It looks like training the model on the entire training set and testing it on the test set produced a slightly higher R<sup>2</sup> value. The root mean squared error is analogous to the standard deviation of the model and indicates how close the predicted values are to the actual values. The root mean squared error produced from this final model was a 1.2769 for the log of global sales prediction. Given that the actual log global sales values ranges from about -4 to 4, this is a relatively high RMSE value and indicates that this linear regression model may not predict very well.  \n",
    "\n",
    "Let's explore what happens when we turn the prediction of the global sales of a video game into a classification problem."
   ]
  },
  {
   "cell_type": "markdown",
   "metadata": {},
   "source": [
    "## Classification: High or Low global sales?\n",
    "Given the features of a video games that we have right now, let's see if we can predict wheather or not a video game will have \"high sales\". For this case, we will classify any video game that has sold more than 1 million units, globally, as having high sales. We will then use logistic regression to fit a model to the dataset and then calculate its accuracy score in order to determine how well the model performs.  \n",
    "\n",
    "We will label the video games in the data set by adding in a new column called \"high_sales\". The values in this column will be True(or a 1) if a video game had a global sales value larger than 1, otherwise the value will be False(or a 0). Then we will create a \"lean\" dataset containing the neccessary features as well as the dummy variables for Genre and pub class."
   ]
  },
  {
   "cell_type": "markdown",
   "metadata": {},
   "source": [
    "### Creating the Dataframe"
   ]
  },
  {
   "cell_type": "code",
   "execution_count": 8,
   "metadata": {},
   "outputs": [
    {
     "data": {
      "text/html": [
       "<div>\n",
       "<style scoped>\n",
       "    .dataframe tbody tr th:only-of-type {\n",
       "        vertical-align: middle;\n",
       "    }\n",
       "\n",
       "    .dataframe tbody tr th {\n",
       "        vertical-align: top;\n",
       "    }\n",
       "\n",
       "    .dataframe thead th {\n",
       "        text-align: right;\n",
       "    }\n",
       "</style>\n",
       "<table border=\"1\" class=\"dataframe\">\n",
       "  <thead>\n",
       "    <tr style=\"text-align: right;\">\n",
       "      <th></th>\n",
       "      <th>Year_of_Release</th>\n",
       "      <th>Critic_Score</th>\n",
       "      <th>high_sales</th>\n",
       "      <th>count</th>\n",
       "      <th>User_Score</th>\n",
       "      <th>Adventure</th>\n",
       "      <th>Fighting</th>\n",
       "      <th>Misc</th>\n",
       "      <th>Platform</th>\n",
       "      <th>Puzzle</th>\n",
       "      <th>Racing</th>\n",
       "      <th>Role-Playing</th>\n",
       "      <th>Shooter</th>\n",
       "      <th>Simulation</th>\n",
       "      <th>Sports</th>\n",
       "      <th>Strategy</th>\n",
       "      <th>1</th>\n",
       "      <th>2</th>\n",
       "      <th>3</th>\n",
       "    </tr>\n",
       "  </thead>\n",
       "  <tbody>\n",
       "    <tr>\n",
       "      <th>0</th>\n",
       "      <td>2006</td>\n",
       "      <td>76.0</td>\n",
       "      <td>True</td>\n",
       "      <td>290</td>\n",
       "      <td>80.0</td>\n",
       "      <td>0</td>\n",
       "      <td>0</td>\n",
       "      <td>0</td>\n",
       "      <td>0</td>\n",
       "      <td>0</td>\n",
       "      <td>0</td>\n",
       "      <td>0</td>\n",
       "      <td>0</td>\n",
       "      <td>0</td>\n",
       "      <td>1</td>\n",
       "      <td>0</td>\n",
       "      <td>0</td>\n",
       "      <td>0</td>\n",
       "      <td>1</td>\n",
       "    </tr>\n",
       "    <tr>\n",
       "      <th>1</th>\n",
       "      <td>2013</td>\n",
       "      <td>97.0</td>\n",
       "      <td>True</td>\n",
       "      <td>129</td>\n",
       "      <td>83.0</td>\n",
       "      <td>0</td>\n",
       "      <td>0</td>\n",
       "      <td>0</td>\n",
       "      <td>0</td>\n",
       "      <td>0</td>\n",
       "      <td>0</td>\n",
       "      <td>0</td>\n",
       "      <td>0</td>\n",
       "      <td>0</td>\n",
       "      <td>0</td>\n",
       "      <td>0</td>\n",
       "      <td>1</td>\n",
       "      <td>0</td>\n",
       "      <td>0</td>\n",
       "    </tr>\n",
       "    <tr>\n",
       "      <th>2</th>\n",
       "      <td>2008</td>\n",
       "      <td>82.0</td>\n",
       "      <td>True</td>\n",
       "      <td>290</td>\n",
       "      <td>83.0</td>\n",
       "      <td>0</td>\n",
       "      <td>0</td>\n",
       "      <td>0</td>\n",
       "      <td>0</td>\n",
       "      <td>0</td>\n",
       "      <td>1</td>\n",
       "      <td>0</td>\n",
       "      <td>0</td>\n",
       "      <td>0</td>\n",
       "      <td>0</td>\n",
       "      <td>0</td>\n",
       "      <td>0</td>\n",
       "      <td>0</td>\n",
       "      <td>1</td>\n",
       "    </tr>\n",
       "    <tr>\n",
       "      <th>3</th>\n",
       "      <td>2009</td>\n",
       "      <td>80.0</td>\n",
       "      <td>True</td>\n",
       "      <td>290</td>\n",
       "      <td>80.0</td>\n",
       "      <td>0</td>\n",
       "      <td>0</td>\n",
       "      <td>0</td>\n",
       "      <td>0</td>\n",
       "      <td>0</td>\n",
       "      <td>0</td>\n",
       "      <td>0</td>\n",
       "      <td>0</td>\n",
       "      <td>0</td>\n",
       "      <td>1</td>\n",
       "      <td>0</td>\n",
       "      <td>0</td>\n",
       "      <td>0</td>\n",
       "      <td>1</td>\n",
       "    </tr>\n",
       "    <tr>\n",
       "      <th>4</th>\n",
       "      <td>2011</td>\n",
       "      <td>88.0</td>\n",
       "      <td>True</td>\n",
       "      <td>210</td>\n",
       "      <td>34.0</td>\n",
       "      <td>0</td>\n",
       "      <td>0</td>\n",
       "      <td>0</td>\n",
       "      <td>0</td>\n",
       "      <td>0</td>\n",
       "      <td>0</td>\n",
       "      <td>0</td>\n",
       "      <td>1</td>\n",
       "      <td>0</td>\n",
       "      <td>0</td>\n",
       "      <td>0</td>\n",
       "      <td>0</td>\n",
       "      <td>0</td>\n",
       "      <td>1</td>\n",
       "    </tr>\n",
       "  </tbody>\n",
       "</table>\n",
       "</div>"
      ],
      "text/plain": [
       "   Year_of_Release  Critic_Score  high_sales  count  User_Score  Adventure  \\\n",
       "0             2006          76.0        True    290        80.0          0   \n",
       "1             2013          97.0        True    129        83.0          0   \n",
       "2             2008          82.0        True    290        83.0          0   \n",
       "3             2009          80.0        True    290        80.0          0   \n",
       "4             2011          88.0        True    210        34.0          0   \n",
       "\n",
       "   Fighting  Misc  Platform  Puzzle  Racing  Role-Playing  Shooter  \\\n",
       "0         0     0         0       0       0             0        0   \n",
       "1         0     0         0       0       0             0        0   \n",
       "2         0     0         0       0       1             0        0   \n",
       "3         0     0         0       0       0             0        0   \n",
       "4         0     0         0       0       0             0        1   \n",
       "\n",
       "   Simulation  Sports  Strategy  1  2  3  \n",
       "0           0       1         0  0  0  1  \n",
       "1           0       0         0  1  0  0  \n",
       "2           0       0         0  0  0  1  \n",
       "3           0       1         0  0  0  1  \n",
       "4           0       0         0  0  0  1  "
      ]
     },
     "execution_count": 8,
     "metadata": {},
     "output_type": "execute_result"
    }
   ],
   "source": [
    "#labeling the data\n",
    "df['high_sales'] = df['Global_Sales'] > 1\n",
    "\n",
    "#creating a dataset with video game features and the high_sales target variable\n",
    "lean_clf = df[['Year_of_Release','Critic_Score','high_sales','count','User_Score']]\n",
    "lean_clf = pd.concat([lean_clf, genre_dummies, pub_class_dummies], axis=1)\n",
    "\n",
    "lean_clf.head()"
   ]
  },
  {
   "cell_type": "markdown",
   "metadata": {},
   "source": [
    "The dataset will be split into its features and target variables. The target variable, as well as the year of release feature, will need to be encoded in order to feed them into the classifier. Also, the dataset will be split into a training set and hold-out set. The training set will be used to fit and test models and then the hold-out set will be used to give it a final score after the fitting and testing."
   ]
  },
  {
   "cell_type": "code",
   "execution_count": 9,
   "metadata": {},
   "outputs": [],
   "source": [
    "from sklearn.preprocessing import LabelEncoder\n",
    "\n",
    "#splitting into X and y variables\n",
    "X_clf = lean_clf.copy().drop('high_sales', axis=1)\n",
    "y_clf = lean_clf['high_sales']\n",
    "\n",
    "#initializing the encoder\n",
    "encoder = LabelEncoder()\n",
    "\n",
    "#encoding the field of Year_of_Release and the target variable\n",
    "X_clf['Year_of_Release'] = encoder.fit_transform(X_clf['Year_of_Release'])\n",
    "y_clf = encoder.fit_transform(y_clf)\n",
    "\n",
    "#splitting dataset into training and testing sets(hold-out)\n",
    "X_train, X_test, y_train, y_test = train_test_split(X_clf, y_clf, test_size=0.20, random_state=29)"
   ]
  },
  {
   "cell_type": "markdown",
   "metadata": {},
   "source": [
    "### Model Selection\n",
    "With our features and our target training sets made, we can fit them to a logistic regression classifier and run a cross validation in order to determine how well the model predicts a video game as having \"high sales\". Let's start by creating a general function that accepts the model, the features, and the target variable in order to perform the cross validation scoring."
   ]
  },
  {
   "cell_type": "code",
   "execution_count": 10,
   "metadata": {},
   "outputs": [],
   "source": [
    "from sklearn.model_selection import StratifiedKFold\n",
    "#creating classify function, that takes model, x, y and returns the average accuracy of the model\n",
    "def classify(model, X=X_train, y=y_train):\n",
    "    cv = StratifiedKFold(n_splits=5, random_state=29, shuffle=True)\n",
    "    scores = cross_val_score(model, X, y, cv=cv, scoring='accuracy')\n",
    "    return np.mean(scores)"
   ]
  },
  {
   "cell_type": "code",
   "execution_count": 11,
   "metadata": {},
   "outputs": [
    {
     "name": "stdout",
     "output_type": "stream",
     "text": [
      "The LogisticRegression Score is: 0.7905\n"
     ]
    }
   ],
   "source": [
    "from sklearn.linear_model import LogisticRegression\n",
    "#instantiating the LogisticRegression model\n",
    "#solver set to liblinear to suppress warnings\n",
    "lr = LogisticRegression(solver='liblinear', random_state=29)\n",
    "\n",
    "#cross validates and returns average accuracy score\n",
    "lr_score = classify(lr)\n",
    "print(\"The LogisticRegression Score is: {:0.4f}\".format(lr_score))"
   ]
  },
  {
   "cell_type": "markdown",
   "metadata": {},
   "source": [
    "The logistic regression model had returned an accuracy of about 79%. This score means that the model was able to predict a video game having a high global sales value correctly 79% of the time. The dataset was fit to a LogisticRegression model that was \"out-of-the-box\", meaning the default hyperparameters were used. One way to increase this accuracy score would be to tune the hyperparameters of the model. But before we do that, let's take a look at a few other classifiers and see what their out-of-the-box accuracy scores are."
   ]
  },
  {
   "cell_type": "code",
   "execution_count": 12,
   "metadata": {},
   "outputs": [
    {
     "data": {
      "text/html": [
       "<div>\n",
       "<style scoped>\n",
       "    .dataframe tbody tr th:only-of-type {\n",
       "        vertical-align: middle;\n",
       "    }\n",
       "\n",
       "    .dataframe tbody tr th {\n",
       "        vertical-align: top;\n",
       "    }\n",
       "\n",
       "    .dataframe thead th {\n",
       "        text-align: right;\n",
       "    }\n",
       "</style>\n",
       "<table border=\"1\" class=\"dataframe\">\n",
       "  <thead>\n",
       "    <tr style=\"text-align: right;\">\n",
       "      <th></th>\n",
       "      <th>Classifier</th>\n",
       "      <th>Accuracy</th>\n",
       "    </tr>\n",
       "  </thead>\n",
       "  <tbody>\n",
       "    <tr>\n",
       "      <th>0</th>\n",
       "      <td>Random Forest</td>\n",
       "      <td>0.790516</td>\n",
       "    </tr>\n",
       "    <tr>\n",
       "      <th>1</th>\n",
       "      <td>KNN</td>\n",
       "      <td>0.757751</td>\n",
       "    </tr>\n",
       "    <tr>\n",
       "      <th>2</th>\n",
       "      <td>SVM</td>\n",
       "      <td>0.756913</td>\n",
       "    </tr>\n",
       "    <tr>\n",
       "      <th>3</th>\n",
       "      <td>NaiveBayes</td>\n",
       "      <td>0.676465</td>\n",
       "    </tr>\n",
       "    <tr>\n",
       "      <th>4</th>\n",
       "      <td>Logistic Regression</td>\n",
       "      <td>0.790519</td>\n",
       "    </tr>\n",
       "  </tbody>\n",
       "</table>\n",
       "</div>"
      ],
      "text/plain": [
       "            Classifier  Accuracy\n",
       "0        Random Forest  0.790516\n",
       "1                  KNN  0.757751\n",
       "2                  SVM  0.756913\n",
       "3           NaiveBayes  0.676465\n",
       "4  Logistic Regression  0.790519"
      ]
     },
     "execution_count": 12,
     "metadata": {},
     "output_type": "execute_result"
    }
   ],
   "source": [
    "from sklearn.ensemble import RandomForestClassifier\n",
    "from sklearn.svm import SVC\n",
    "from sklearn.neighbors import KNeighborsClassifier\n",
    "from sklearn.naive_bayes import GaussianNB\n",
    "\n",
    "#creating a list of named tuples of classifiers\n",
    "#setting some initial parameters to suppress warnings\n",
    "classifiers = [('Random Forest', RandomForestClassifier(n_estimators=100, random_state=29)),\n",
    "               ('KNN', KNeighborsClassifier()),\n",
    "               ('SVM', SVC(gamma='scale')),\n",
    "               ('NaiveBayes', GaussianNB()),\n",
    "              ('Logistic Regression', LogisticRegression(solver='liblinear'))]\n",
    "\n",
    "#storing the classifier with their scores\n",
    "clf_scores = {}\n",
    "\n",
    "#looping through each classifier\n",
    "for name, clfs in classifiers:\n",
    "    score = classify(clfs)\n",
    "    clf_scores[name] = score\n",
    "    \n",
    "#placing the model accuracy results in a DataFrame\n",
    "df_clf = pd.DataFrame.from_dict(clf_scores, 'index').reset_index()\n",
    "df_clf.columns = ['Classifier', 'Accuracy']\n",
    "df_clf"
   ]
  },
  {
   "cell_type": "markdown",
   "metadata": {},
   "source": [
    "The logistic regression and random forest models out performed all other classifiers, out-of-the-box. Let's take the logistic regression, SVM, and the random forest classifiers and tune their hyperparameters to see if the accuracy of the models can be increased."
   ]
  },
  {
   "cell_type": "markdown",
   "metadata": {},
   "source": [
    "### Hyperparameter Tuning\n",
    "\n",
    "In order to perform hyperparameter tuning we will use the sklearn function, GridSearchCV. This function will search through a grid of classifier parameter values and choose the set of parameter values that return the highest score as well at the best estimator. Lets start with a logistic regression grid search."
   ]
  },
  {
   "cell_type": "code",
   "execution_count": 13,
   "metadata": {},
   "outputs": [],
   "source": [
    "from sklearn.model_selection import GridSearchCV\n",
    "\n",
    "#defining a function to perform the grid search through a given set of parameters\n",
    "#returns the best score and the parameters that were used for that score\n",
    "#also returns the model with the best parameters set\n",
    "def search_params(model, param_grid, x=X_train, y=y_train):\n",
    "    gridsearch = GridSearchCV(model, param_grid=param_grid, cv=3, n_jobs=-1, verbose=1)\n",
    "    #fits to the training data\n",
    "    gridsearch.fit(x,y)\n",
    "    #prints the results of the gridsearch\n",
    "    print(\"The best GridSearch parameters: {}\".format(gridsearch.best_params_))\n",
    "    print(\"The score from GridSearch: {:0.4f}\".format(gridsearch.best_score_))\n",
    "    #returns the estimator with the best parameters\n",
    "    return gridsearch.best_estimator_"
   ]
  },
  {
   "cell_type": "markdown",
   "metadata": {},
   "source": [
    "#### Logistic Regression"
   ]
  },
  {
   "cell_type": "code",
   "execution_count": 14,
   "metadata": {},
   "outputs": [
    {
     "name": "stdout",
     "output_type": "stream",
     "text": [
      "Logistic Regression\n",
      "Fitting 3 folds for each of 18 candidates, totalling 54 fits\n"
     ]
    },
    {
     "name": "stderr",
     "output_type": "stream",
     "text": [
      "[Parallel(n_jobs=-1)]: Using backend LokyBackend with 8 concurrent workers.\n"
     ]
    },
    {
     "name": "stdout",
     "output_type": "stream",
     "text": [
      "The best GridSearch parameters: {'C': 1000.0, 'penalty': 'l2'}\n",
      "The score from GridSearch: 0.7894\n",
      "The score from defaults: 0.7905\n"
     ]
    },
    {
     "name": "stderr",
     "output_type": "stream",
     "text": [
      "[Parallel(n_jobs=-1)]: Done  34 tasks      | elapsed:    1.4s\n",
      "[Parallel(n_jobs=-1)]: Done  39 out of  54 | elapsed:    1.4s remaining:    0.5s\n",
      "[Parallel(n_jobs=-1)]: Done  54 out of  54 | elapsed:    1.4s finished\n"
     ]
    }
   ],
   "source": [
    "#defining parameter grid for Logistic Regression\n",
    "param_grid = {'penalty':('l1','l2'),\n",
    "             'C':np.logspace(-4,4,9)\n",
    "             }\n",
    "\n",
    "#instantiating logistic regression model\n",
    "lr_GS = LogisticRegression(solver='liblinear', random_state=29)\n",
    "\n",
    "print(\"Logistic Regression\")\n",
    "#performing the gridsearch on the model with the given parameter values\n",
    "best_lr = search_params(lr_GS, param_grid)\n",
    "print(\"The score from defaults: {:0.4f}\".format(lr_score))"
   ]
  },
  {
   "cell_type": "markdown",
   "metadata": {},
   "source": [
    "It is interesting to observe the accuracy score decreasing slightly after tuning the hyperparameters. Let's now take a look at tuning the hyperparameters for the SVM classifier."
   ]
  },
  {
   "cell_type": "markdown",
   "metadata": {},
   "source": [
    "#### Support Vector Machine"
   ]
  },
  {
   "cell_type": "code",
   "execution_count": 15,
   "metadata": {},
   "outputs": [
    {
     "name": "stderr",
     "output_type": "stream",
     "text": [
      "[Parallel(n_jobs=-1)]: Using backend LokyBackend with 8 concurrent workers.\n"
     ]
    },
    {
     "name": "stdout",
     "output_type": "stream",
     "text": [
      "SVM\n",
      "Fitting 3 folds for each of 56 candidates, totalling 168 fits\n"
     ]
    },
    {
     "name": "stderr",
     "output_type": "stream",
     "text": [
      "[Parallel(n_jobs=-1)]: Done  34 tasks      | elapsed:    6.4s\n",
      "[Parallel(n_jobs=-1)]: Done 168 out of 168 | elapsed:   38.8s finished\n"
     ]
    },
    {
     "name": "stdout",
     "output_type": "stream",
     "text": [
      "The best GridSearch parameters: {'C': 100.0, 'gamma': 0.001}\n",
      "The score from GridSearch: 0.7883\n",
      "The score from defaults: 0.7569\n"
     ]
    }
   ],
   "source": [
    "#defining parameter grid for SVM\n",
    "param_grid = {'C':np.logspace(-3,3,7),\n",
    "             'gamma':[0.001, 0.01, 0.1, 0, 1, 10, 100, 'scale']\n",
    "             }                \n",
    "\n",
    "#instantiating SVM model\n",
    "svm_GS = SVC(kernel='rbf', probability=True)\n",
    "\n",
    "#print results of the grid search\n",
    "print(\"SVM\")\n",
    "#performing the gridsearch on the model with the given parameter values\n",
    "best_svm = search_params(svm_GS, param_grid)\n",
    "print(\"The score from defaults: {:0.4f}\".format(classify(SVC(gamma='scale'))))"
   ]
  },
  {
   "cell_type": "markdown",
   "metadata": {},
   "source": [
    "After tuning the hyperparameters it looks like the SVM classifier scored significantly higher than the out-of-the-box model. It also performed very similarly to logistic regression. Finally, let's tune the hyperparameters for the random forest classifier."
   ]
  },
  {
   "cell_type": "markdown",
   "metadata": {},
   "source": [
    "#### Random Forest"
   ]
  },
  {
   "cell_type": "code",
   "execution_count": 16,
   "metadata": {
    "scrolled": false
   },
   "outputs": [
    {
     "name": "stdout",
     "output_type": "stream",
     "text": [
      "Random Forest\n",
      "Fitting 3 folds for each of 32 candidates, totalling 96 fits\n"
     ]
    },
    {
     "name": "stderr",
     "output_type": "stream",
     "text": [
      "[Parallel(n_jobs=-1)]: Using backend LokyBackend with 8 concurrent workers.\n",
      "[Parallel(n_jobs=-1)]: Done  34 tasks      | elapsed:   15.2s\n",
      "[Parallel(n_jobs=-1)]: Done  96 out of  96 | elapsed:   42.7s finished\n"
     ]
    },
    {
     "name": "stdout",
     "output_type": "stream",
     "text": [
      "The best GridSearch parameters: {'bootstrap': True, 'max_depth': 10, 'min_samples_leaf': 1, 'min_samples_split': 6, 'n_estimators': 1500}\n",
      "The score from GridSearch: 0.7953\n",
      "The score from defaults: 0.7905\n"
     ]
    }
   ],
   "source": [
    "#defining parameter grid for Random Forest\n",
    "param_grid = {'n_estimators':list(range(1400,1600,100)),\n",
    "              'max_depth': [10, None],\n",
    "              'min_samples_leaf':[1,2],\n",
    "              'min_samples_split':[5,6],\n",
    "              'bootstrap': [True, False]\n",
    "             }                \n",
    "\n",
    "#instantiating random forest model\n",
    "rf_GS = RandomForestClassifier(random_state=29)\n",
    "\n",
    "#print results of the grid search\n",
    "print(\"Random Forest\")\n",
    "#performing the gridsearch on the model with the given parameter values\n",
    "best_rf = search_params(rf_GS, param_grid)\n",
    "print(\"The score from defaults: {:0.4f}\".format(classify(RandomForestClassifier(n_estimators=100, random_state=29))))"
   ]
  },
  {
   "cell_type": "markdown",
   "metadata": {},
   "source": [
    "The random forest model scored slightly higher than its out-of-the-box defaults. It also scored higher than logistic regression and the SVM classifier. All three of these models were given a set of possible parameters and the best ones that gave the highest accuracy score were chosen."
   ]
  },
  {
   "cell_type": "markdown",
   "metadata": {},
   "source": [
    "### Best Classifier Model\n",
    "Now that we have the optimal hyperparameters for our models, let's fit the models to the entire training set and then test the models using the hold-out set. We will also obtain classification reports of each model to get more in-depth metrics, such as precision, recall, and f-1 scores for each class in the models."
   ]
  },
  {
   "cell_type": "code",
   "execution_count": 17,
   "metadata": {},
   "outputs": [
    {
     "name": "stdout",
     "output_type": "stream",
     "text": [
      "\t Logistic Regression \n",
      "               precision    recall  f1-score   support\n",
      "\n",
      "           0       0.81      0.91      0.86       626\n",
      "           1       0.70      0.50      0.58       260\n",
      "\n",
      "    accuracy                           0.79       886\n",
      "   macro avg       0.76      0.71      0.72       886\n",
      "weighted avg       0.78      0.79      0.78       886\n",
      " \n",
      "\n",
      "\t SVM \n",
      "               precision    recall  f1-score   support\n",
      "\n",
      "           0       0.81      0.92      0.86       626\n",
      "           1       0.71      0.48      0.57       260\n",
      "\n",
      "    accuracy                           0.79       886\n",
      "   macro avg       0.76      0.70      0.72       886\n",
      "weighted avg       0.78      0.79      0.78       886\n",
      " \n",
      "\n",
      "\t Random Forest \n",
      "               precision    recall  f1-score   support\n",
      "\n",
      "           0       0.80      0.93      0.86       626\n",
      "           1       0.73      0.45      0.56       260\n",
      "\n",
      "    accuracy                           0.79       886\n",
      "   macro avg       0.77      0.69      0.71       886\n",
      "weighted avg       0.78      0.79      0.77       886\n",
      " \n",
      "\n"
     ]
    }
   ],
   "source": [
    "from sklearn.metrics import classification_report\n",
    "\n",
    "#instantiating the classifiers with the best parameters\n",
    "to_fit = [('Logistic Regression',best_lr), \n",
    "          ('SVM',best_svm), \n",
    "          ('Random Forest',best_rf)]\n",
    "\n",
    "#storing each name, classifier tuple to a variable\n",
    "log_reg = to_fit[0]\n",
    "svm = to_fit[1]\n",
    "random_forest = to_fit[2]\n",
    "\n",
    "#looping through each classifier; fitting and predicting on the hold-out set\n",
    "for name, clf in to_fit:\n",
    "    clf.fit(X_train, y_train)\n",
    "    print(\"\\t\",name,\"\\n\", classification_report(y_test, clf.predict(X_test)), '\\n')\n",
    "    "
   ]
  },
  {
   "cell_type": "markdown",
   "metadata": {},
   "source": [
    "The precision of a model represents how many of the predicted positives (class 1) are actually true. The recall represents the proportion of the actual positives being predicted correctly. For example, take a case where we label everything as correct, even if some of them were incorrect. In this case, there would be a high recall score and a low precision score. All the positives were predicted correctly at the expense of labeling some wrong ones as correct. There is always a trade-off between precision and recall. The f-1 score is the harmonic mean between the precision and the recall.   \n",
    "\n",
    "Which scoring system to use will depend on the question being answered and the nature of the data. For this problem, we are attempting to correctly predict whether or a not a video game's global sales will be above 1 million units. Therefore, the precision of the model will be a big factor of how well the model performed.  \n",
    "\n",
    "From the results of the classification report and the testing of the model on the hold-out set, it looks as though all three models performed very similarly in the weighted average of the precision scores. But it looks like the random forest classifier had the highest precision score in predicting a video game being in class 1; having above 1 global_sales. Before deciding on which model performed the best, let's look at a way to visualize a model's performance."
   ]
  },
  {
   "cell_type": "markdown",
   "metadata": {},
   "source": [
    "#### Receiver Operator Characteristic (ROC) Curve\n",
    "An ROC curve is a way to visualize the performance of a binary classifier model. Instead of predicting the class itself, we can  predict the probability that it will be the class. Knowing the probabilities allows us to set different threshold values for the classification. For example, if we set the threshold value to be 0.40, then any video game having a greater than 0.40 probability of being classified as having high sales will indeed be classified as such. The ROC curve visualizes the ratio of true positive rate and false positive rates of a model given various threshold values. The better model would be towards the upper left of the plot where the true positive rate is 1.0 and the false positive rate is 0. The worse model would be towards the black line crossing diagonally through the plot. The black line represents a model that does no better than randomly guessing a class. The area under the curve (AUC) gives a value that can numerically represent how well a model performed given the ROC curve. \n",
    "\n",
    "Let's create a function that predicts the probabilities of the classifiers and plots the ROC curves as well as calculates the AUCs using sklearn. "
   ]
  },
  {
   "cell_type": "code",
   "execution_count": 18,
   "metadata": {},
   "outputs": [],
   "source": [
    "from sklearn.metrics import roc_auc_score, roc_curve\n",
    "\n",
    "#creating a function to automatically calculate the false positive and true positive rates\n",
    "#and the AUC values through sklearn functions\n",
    "#plots an ROC curve and prints the AUC in the legend\n",
    "def plot_roc(name_clf, x=X_test, y=y_test, c='orange'):\n",
    "    #calculates fpr and tpr from probabilities\n",
    "    fpr, tpr, thresholds = roc_curve(y, name_clf[1].predict_proba(x)[:,1])\n",
    "    #calculates the AUC\n",
    "    auc = roc_auc_score(y, name_clf[1].predict_proba(x)[:,1])\n",
    "    #plots ROC\n",
    "    plt.plot(fpr, tpr, c=c, label='{} (AUC={:0.2f})'.format(name_clf[0],auc))\n",
    "    \n",
    "    #calculates the optimal threshold value\n",
    "    optimal_idx = np.argmax(tpr - fpr)\n",
    "    optimal_threshold = thresholds[optimal_idx]\n",
    "    print(\"The optimal threshold value for {} is {:0.4f}.\".format(name_clf[0], optimal_threshold))"
   ]
  },
  {
   "cell_type": "code",
   "execution_count": 19,
   "metadata": {},
   "outputs": [
    {
     "name": "stdout",
     "output_type": "stream",
     "text": [
      "The optimal threshold value for Logistic Regression is 0.2433.\n",
      "The optimal threshold value for SVM is 0.2368.\n",
      "The optimal threshold value for Random Forest is 0.2616.\n"
     ]
    },
    {
     "data": {
      "image/png": "[encoded data removed]",
      "text/plain": [
       "<Figure size 432x288 with 1 Axes>"
      ]
     },
     "metadata": {
      "needs_background": "light"
     },
     "output_type": "display_data"
    }
   ],
   "source": [
    "#plotting each classifier\n",
    "plot_roc(log_reg, c='orange')\n",
    "plot_roc(svm, c='blue')\n",
    "plot_roc(random_forest, c='green')\n",
    "\n",
    "#plotting diagonal black line\n",
    "plt.plot((0,1),(0,1), linestyle='--', c='black')\n",
    "plt.ylim(0,1)\n",
    "plt.xlim(0,1)\n",
    "\n",
    "#setting title and labels\n",
    "plt.title('Receiver Operting Characteristic')\n",
    "plt.xlabel('False Positive Rate')\n",
    "plt.ylabel('True Positive Rate')\n",
    "plt.legend(loc='lower right')\n",
    "\n",
    "plt.show()"
   ]
  },
  {
   "cell_type": "markdown",
   "metadata": {},
   "source": [
    "Looking at the AUC for each of the models it appears that the random forest classifier out performed both logistic regression and the SVM classifier. The random forest seems to be the best classifier for prediction given this dataset. It tied in best performance out-of-the-box, scored the highest after tuning the hyperparameters, had the highest precision score in predicting the postive class, and had the highest area under the curve in the ROC curve plot. All three of these models performed very similarly to each other, after tuning the hyperparameters. The logistic regression model is also a strong contender for the best model. The logistic regression also performed well out-of-the-box, was very simple to tune, trained and predicted the fastest, and had the better f-1 score for the postive class. One downside to logistic regression is that it seems like it can only improve so much, given its relatively limited hyperparameters."
   ]
  },
  {
   "cell_type": "markdown",
   "metadata": {},
   "source": [
    "## Machine Learning Summary  \n",
    "Machine learning is a very power tool in providing predictive and analytical solutions to problems in data. There are many models that can be applied to endless types of datasets and many insights and solutions can be found. In regards to this project, the predictive power of the linear regression model was improved from 17% to about 30% by applying more than one feature of a video game to the model. However with a RMSE value of about 1.28 in predicting the log of global sales, the linear regression model seems to not do too well and has room for improvement. It was also seen that by framing the question as a classification problem, powerful algorithms could be used to predict whether or not a video game would sell more than 1 million units, globally. The model that fit this dataset the best was random forest. This model was able to correctly classify a video game with an accuracy of 79% and a precision of about 73%. \n",
    "\n",
    "I believe these scores have the potential to be improved. During the data wrangling portion of this dataset a lot of the data was either aggregated or discarded. A different approach, such as keeping the \"Platform\" or \"sales per country\" features, could possibly lead to the availability of more data. Other models could have also been explored and deeper hyperparameter tuning could have also been performed. Another avenue that could be explored would be to balance the classes of the dataset to see if that would provide greater scores."
   ]
  }
 ],
 "metadata": {
  "kernelspec": {
   "display_name": "Python 3",
   "language": "python",
   "name": "python3"
  },
  "language_info": {
   "codemirror_mode": {
    "name": "ipython",
    "version": 3
   },
   "file_extension": ".py",
   "mimetype": "text/x-python",
   "name": "python",
   "nbconvert_exporter": "python",
   "pygments_lexer": "ipython3",
   "version": "3.7.3"
  }
 },
 "nbformat": 4,
 "nbformat_minor": 2
}
